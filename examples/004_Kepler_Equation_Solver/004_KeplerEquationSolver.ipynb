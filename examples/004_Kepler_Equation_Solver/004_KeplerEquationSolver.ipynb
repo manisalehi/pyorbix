{
 "cells": [
  {
   "metadata": {},
   "cell_type": "markdown",
   "source": "# Example 4: Solving Kepler’s Equation and Verifying Eccentric Anomaly",
   "id": "6e1f0ec704cbe73e"
  },
  {
   "metadata": {},
   "cell_type": "markdown",
   "source": [
    "\n",
    "### Problem Statement\n",
    "\n",
    "This example demonstrates how to numerically solve **Kepler’s Equation** to determine the eccentric anomaly $E$ from the mean anomaly $M_e$ and orbital eccentricity $e$.\n",
    "\n",
    "**Kepler’s Equation:**\n",
    "\n",
    "$$\n",
    "M_e = E - e \\sin E\n",
    "$$\n",
    "\n",
    "Because the equation is transcendental, there is no closed-form analytical solution. Instead, we solve it using iterative root-finding methods.\n",
    "\n",
    "### Objectives\n",
    "\n",
    "1. Implement a numerical root-finding method (SciPy’s `fsolve`) to compute $E$.\n",
    "2. Validate the solver against textbook/class examples.\n",
    "3. Extend the computation to verify:\n",
    "   - Time since perigee\n",
    "   - True anomaly $\\theta$\n",
    "   - Internal consistency of orbital mechanics functions in `orbit_util.py`\n",
    "\n",
    "\n",
    "### Verification Example (from lecture notes)\n",
    "\n",
    "- Eccentricity: $e = 0.3725$\n",
    "- Mean anomaly: $M_e = 1.36 \\; \\text{rad}$\n",
    "- Expected eccentric anomaly: $E = 1.7281 \\; \\text{rad}$\n"
   ],
   "id": "94681456eb3ba59"
  },
  {
   "metadata": {},
   "cell_type": "markdown",
   "source": [
    "### Method\n",
    "\n",
    "We use the class `Orbit_2body` (from orbit_util.py) to:\n",
    "\n",
    "- Compute specific angular momentum $h$.\n",
    "- Propagate time since perigee for a given true anomaly.\n",
    "- Numerically solve Kepler’s equation using `fsolve`.\n",
    "- Compare results with expected textbook values.\n",
    "\n",
    "This confirms the correctness of the Kepler solver and the orbital mechanics pipeline.\n"
   ],
   "id": "a2933622d84d515"
  },
  {
   "metadata": {},
   "cell_type": "markdown",
   "source": [
    "### Code\n",
    "\n",
    "Here is the example code:"
   ],
   "id": "278b1116154a4e5"
  },
  {
   "metadata": {},
   "cell_type": "code",
   "outputs": [],
   "execution_count": null,
   "source": [
    "import numpy as np\n",
    "from orbit_util import Orbit_2body\n",
    "from scipy.optimize import fsolve\n",
    "\n",
    "# -------------------------\n",
    "# Helper functions\n",
    "# -------------------------\n",
    "def rad2deg(rad):\n",
    "    \"\"\"Convert radians to degrees.\"\"\"\n",
    "    return np.rad2deg(rad)\n",
    "\n",
    "def deg2rad(deg):\n",
    "    \"\"\"Convert degrees to radians.\"\"\"\n",
    "    return np.deg2rad(deg)\n",
    "\n",
    "def compare(val1, val2, tol=1e-2):\n",
    "    \"\"\"Compare two values with tolerance.\"\"\"\n",
    "    return abs(val1 - val2) <= tol\n"
   ],
   "id": "d35cf856f935dcf1"
  },
  {
   "metadata": {},
   "cell_type": "code",
   "source": [
    "# -------------------------\n",
    "# Initialize orbit solver\n",
    "# -------------------------\n",
    "orbit = Orbit_2body()\n",
    "\n",
    "def validate_shadow_example(apogee_toward_sun=True):\n",
    "    \"\"\"\n",
    "    Validate shadow duration calculation using orbital geometry.\n",
    "\n",
    "    Parameters\n",
    "    ----------\n",
    "    apogee_toward_sun : bool\n",
    "        If True → apogee points toward the Sun.\n",
    "        If False → perigee points toward the Sun.\n",
    "    \"\"\"\n",
    "\n",
    "    print(\"\\nSlide 27–35: Shadow duration calculation\")\n",
    "\n",
    "    # Earth radius [km]\n",
    "    RE = 6378\n",
    "\n",
    "    # Perigee and apogee distances\n",
    "    rp = RE + 500     # Perigee radius [km]\n",
    "    ra = RE + 5000    # Apogee radius [km]\n",
    "\n",
    "    # Semi-major axis and eccentricity\n",
    "    a = (rp + ra) / 2\n",
    "    e = (ra - rp) / (ra + rp)\n",
    "    mu = orbit.mu  # Earth's gravitational parameter\n",
    "\n",
    "    # Compute specific angular momentum at perigee\n",
    "    r_vec = np.array([rp, 0, 0])\n",
    "    v_vec = np.array([0, np.sqrt(mu * (1 + e) / rp), 0])\n",
    "    _, h = orbit.specific_angular_momentum(r_vec, v_vec)\n",
    "\n",
    "    # Orbital radius as function of true anomaly θ\n",
    "    def r_theta(theta):\n",
    "        return (h**2 / mu) / (1 + e * np.cos(theta))\n",
    "\n",
    "    # Condition for shadow entry/exit\n",
    "    def f(theta):\n",
    "        return np.sin(theta) - RE / r_theta(theta)\n",
    "\n",
    "    # Solve for θ intersections\n",
    "    theta1 = fsolve(f, deg2rad(30))[0]\n",
    "    theta2 = -theta1 if apogee_toward_sun else np.pi - theta1\n",
    "\n",
    "    # Compute times since perigee\n",
    "    t1, _ = orbit.time_since_perigee(theta1, h=h, e=e)\n",
    "    t2, _ = orbit.time_since_perigee(theta2, h=h, e=e)\n",
    "    shadow_time = abs(t2 - t1)\n",
    "\n",
    "    # Display results\n",
    "    if apogee_toward_sun:\n",
    "        print(\"Configuration: Apogee toward Sun\")\n",
    "    else:\n",
    "        print(\"Configuration: Perigee toward Sun\")\n",
    "\n",
    "    print(f\"Theta entry: {rad2deg(theta1):.2f}°, exit: {rad2deg(theta2):.2f}°\")\n",
    "    print(f\"Shadow duration: {shadow_time:.2f} s = {shadow_time/60:.2f} min\")\n"
   ],
   "id": "a8de6c5ebe6de4a6",
   "outputs": [],
   "execution_count": null
  },
  {
   "metadata": {},
   "cell_type": "code",
   "source": [
    "# -------------------------\n",
    "# Case 1: Apogee toward Sun\n",
    "# -------------------------\n",
    "validate_shadow_example(apogee_toward_sun=True)\n"
   ],
   "id": "71883482b1043764",
   "outputs": [],
   "execution_count": null
  },
  {
   "metadata": {},
   "cell_type": "code",
   "outputs": [],
   "execution_count": null,
   "source": [
    "# -------------------------\n",
    "# Case 2: Perigee toward Sun\n",
    "# -------------------------\n",
    "validate_shadow_example(apogee_toward_sun=False)\n"
   ],
   "id": "b3f768b33bcff72c"
  }
 ],
 "metadata": {
  "kernelspec": {
   "display_name": "Python 3",
   "language": "python",
   "name": "python3"
  },
  "language_info": {
   "codemirror_mode": {
    "name": "ipython",
    "version": 2
   },
   "file_extension": ".py",
   "mimetype": "text/x-python",
   "name": "python",
   "nbconvert_exporter": "python",
   "pygments_lexer": "ipython2",
   "version": "2.7.6"
  }
 },
 "nbformat": 4,
 "nbformat_minor": 5
}
