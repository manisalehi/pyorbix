{
 "cells": [
  {
   "metadata": {},
   "cell_type": "markdown",
   "source": "# Example 5: Orbit Propagation Using Classical Orbital Elements\n",
   "id": "12dcb839bf3f839a"
  },
  {
   "metadata": {},
   "cell_type": "markdown",
   "source": [
    "This notebook demonstrates how to numerically propagate a spacecraft’s orbit \n",
    "under the **two-body gravitational assumption**, using **classical orbital elements (COEs)** \n",
    "as the initial conditions instead of Cartesian state vectors.\n",
    "\n",
    "We will:\n",
    "1. Convert the given orbital elements into Earth-Centered Inertial (ECI) position and velocity vectors.\n",
    "2. Propagate the orbit over a 24-hour period using Newtonian gravity.\n",
    "3. Visualize the resulting trajectory with both static and animated 3D plots.\n",
    "\n",
    "\n",
    "## Problem Statement\n",
    "\n",
    "The objective is to implement a Python-based tool that accepts **classical orbital elements** as input \n",
    "and converts them into Cartesian coordinates in order to simulate a spacecraft trajectory under the two-body assumption.  \n",
    "\n",
    "### Initial Conditions (Classical Orbital Elements)\n",
    "- Semi-major axis: $a = R_E + 600$ km (where $R_E = 6371$ km)\n",
    "- Eccentricity: $e = 0.001$ (nearly circular)\n",
    "- Inclination: $i = 98^\\circ$\n",
    "- Argument of Periapsis: $\\omega = 40^\\circ$\n",
    "- Right Ascension of Ascending Node (RAAN): $\\Omega = 120^\\circ$\n",
    "- True Anomaly: $\\theta = 50^\\circ$\n"
   ],
   "id": "858be466de515906"
  },
  {
   "metadata": {},
   "cell_type": "markdown",
   "source": [
    "### Method\n",
    "1. Convert the orbital elements to Cartesian coordinates (`keplerian_to_cartesian`).\n",
    "2. Propagate the orbit for 24 hours with a time step of 10 seconds (`propagate_init_cond`).\n",
    "3. Visualize the orbit using `OrbitVisualizer`:\n",
    "   - Static 3D orbit in space.\n",
    "   - Animated orbit evolution in 3D.\n",
    "   - Static orbit over Earth map.\n",
    "   - Detailed animated orbit with Earth borders.\n",
    "\n",
    "This approach validates that using Keplerian elements produces the same trajectory as initializing with Cartesian vectors (Example 1).\n"
   ],
   "id": "98bf256bdc0a5a46"
  },
  {
   "metadata": {},
   "cell_type": "markdown",
   "source": [
    "\n",
    "### Code\n",
    "\n",
    "Here is the example code:\n"
   ],
   "id": "d619a10221232a01"
  },
  {
   "metadata": {
    "ExecuteTime": {
     "end_time": "2025-08-16T09:41:51.815761Z",
     "start_time": "2025-08-16T09:41:48.205593Z"
    }
   },
   "cell_type": "code",
   "source": [
    "from orbit_util import Orbit_2body, OrbitVisualizer\n",
    "import numpy as np\n",
    "\n",
    "\n",
    "# ----------------------------\n",
    "# Define orbital elements\n",
    "# ----------------------------\n",
    "R_E = 6371        # Earth's mean radius [km]\n",
    "a = R_E + 600     # Semi-major axis [km]\n",
    "e = 0.001         # Eccentricity (nearly circular)\n",
    "i = 98            # Inclination [degrees]\n",
    "w = 40            # Argument of periapsis [degrees]\n",
    "RAAN = 120        # Right Ascension of Ascending Node [degrees]\n",
    "theta = 50        # True anomaly [degrees]\n"
   ],
   "id": "bf1b978de3328821",
   "outputs": [],
   "execution_count": 1
  },
  {
   "metadata": {},
   "cell_type": "code",
   "outputs": [],
   "execution_count": null,
   "source": [
    "\n",
    "# ----------------------------\n",
    "# Initialize orbit propagator\n",
    "# ----------------------------\n",
    "orbit = Orbit_2body()\n",
    "\n",
    "# Compute specific angular momentum h\n",
    "# Formula: h = sqrt(mu * a * (1 - e^2))\n",
    "h = np.sqrt(orbit.mu * a * (1 - e**2))\n",
    "\n",
    "# Convert orbital elements into Cartesian state (ECI)\n",
    "r_eci, v_eci = orbit.keplerian_to_cartesian(\n",
    "    e, h, theta, i, RAAN, w, degree_mode=True\n",
    ")\n",
    "\n",
    "print(\"Initial Position Vector (ECI) [km]:\", r_eci)\n",
    "print(\"Initial Velocity Vector (ECI) [km/s]:\", v_eci)\n"
   ],
   "id": "e55bfb0ffce4219a"
  },
  {
   "metadata": {},
   "cell_type": "code",
   "outputs": [],
   "execution_count": null,
   "source": [
    "\n",
    "# ----------------------------\n",
    "# Propagate the orbit\n",
    "# ----------------------------\n",
    "# 24 hours (86400 s), step size = 10 seconds\n",
    "r, t = orbit.propagate_init_cond(\n",
    "    T=24 * 3600,\n",
    "    time_step=10,\n",
    "    R0=r_eci,\n",
    "    V0=v_eci\n",
    ")\n",
    "\n",
    "print(\"Propagation complete. Number of time steps:\", len(t))\n"
   ],
   "id": "15c7e17586259306"
  },
  {
   "metadata": {},
   "cell_type": "code",
   "outputs": [],
   "execution_count": null,
   "source": [
    "\n",
    "# ----------------------------\n",
    "# Visualize results\n",
    "# ----------------------------\n",
    "ob = OrbitVisualizer()\n",
    "\n",
    "# Static 3D orbit\n",
    "ob.SimpleStatic(r, title=\"3D Orbit from Classical Orbital Elements\")\n",
    "\n",
    "# Animated 3D orbit\n",
    "ob.SimpleDynamic(r[::10], t[::10], title=\"Animated Orbital Motion\")\n",
    "\n",
    "# Static orbit over Earth map\n",
    "ob.EarthStatic(r, title=\"Orbit Over Earth Map\")\n",
    "\n",
    "# Detailed animation with borders\n",
    "ob.EarthDynamic(r[::10], t[::10], title=\"Detailed Animated Orbit with Earth Borders\")\n"
   ],
   "id": "ff57facdd0272e96"
  }
 ],
 "metadata": {
  "kernelspec": {
   "display_name": "Python 3",
   "language": "python",
   "name": "python3"
  },
  "language_info": {
   "codemirror_mode": {
    "name": "ipython",
    "version": 2
   },
   "file_extension": ".py",
   "mimetype": "text/x-python",
   "name": "python",
   "nbconvert_exporter": "python",
   "pygments_lexer": "ipython2",
   "version": "2.7.6"
  }
 },
 "nbformat": 4,
 "nbformat_minor": 5
}
