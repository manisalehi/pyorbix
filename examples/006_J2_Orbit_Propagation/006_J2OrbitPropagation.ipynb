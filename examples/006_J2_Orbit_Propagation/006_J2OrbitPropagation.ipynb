{
 "cells": [
  {
   "metadata": {},
   "cell_type": "markdown",
   "source": "# Example 6: Orbit Propagation with J2 Perturbation\n",
   "id": "4500ce034b0e6e74"
  },
  {
   "metadata": {},
   "cell_type": "markdown",
   "source": [
    "## Problem Statement\n",
    "This example demonstrates how to propagate a spacecraft's orbit while accounting for the perturbing effect of Earth's oblateness, modeled by the J2 zonal harmonic.\n",
    "\n",
    "Unlike the classical two-body model (which assumes Earth is perfectly spherical), the J2 perturbation introduces long-term effects:\n",
    "- **Nodal regression** (westward drift of the orbital plane).\n",
    "- **Apsidal rotation** (rotation of the line of apsides).\n",
    "\n",
    "### Initial Conditions:\n",
    "- Position vector (km): $r_0 = [840.5, 485.3, 6905.8]$\n",
    "- Velocity vector (km/s): $v_0 = [3.7821, -6.5491, 0.0057]$\n"
   ],
   "id": "fa33f1d0669254a2"
  },
  {
   "metadata": {},
   "cell_type": "markdown",
   "source": [
    "### Governing Equations\n",
    "The two-body acceleration is given by:\n",
    "\n",
    "$$\n",
    "\\ddot{\\mathbf{r}}_{2body} = -\\mu \\frac{\\mathbf{r}}{\\lVert \\mathbf{r} \\rVert^3}\n",
    "$$\n",
    "\n",
    "where $\\mu = 398600.4418\\,\\text{km}^3/\\text{s}^2$ is Earth's gravitational parameter.\n",
    "\n",
    "The J2 perturbation acceleration components are:\n",
    "\n",
    "$$\n",
    "\\ddot{\\mathbf{r}}_{J2} = -\\mu \\frac{\\mathbf{r}}{r^3} \\begin{bmatrix}\n",
    "1 + \\tfrac{3}{2} J_2 \\left(\\tfrac{R_E}{r}\\right)^2 \\left(1 - 5\\tfrac{z^2}{r^2}\\right) \\\\\n",
    "1 + \\tfrac{3}{2} J_2 \\left(\\tfrac{R_E}{r}\\right)^2 \\left(1 - 5\\tfrac{z^2}{r^2}\\right) \\\\\n",
    "1 + \\tfrac{3}{2} J_2 \\left(\\tfrac{R_E}{r}\\right)^2 \\left(3 - 5\\tfrac{z^2}{r^2}\\right)\n",
    "\\end{bmatrix}\n",
    "$$\n",
    "\n",
    "where:\n",
    "- $R_E = 6378.137$ km is Earth's equatorial radius\n",
    "- $J_2 = 1.08263 \\times 10^{-3}$ is the second zonal harmonic coefficient\n",
    "- $r = \\sqrt{x^2+y^2+z^2}$\n",
    "\n",
    "The total acceleration is then:\n",
    "\n",
    "$$\n",
    "\\ddot{\\mathbf{r}} = \\ddot{\\mathbf{r}}_{2body} + \\ddot{\\mathbf{r}}_{J2}\n",
    "$$\n"
   ],
   "id": "24c7b7f4e0231046"
  },
  {
   "metadata": {},
   "cell_type": "markdown",
   "source": [
    "### Method:\n",
    "We use the `Orbit_2body` class (from `orbit_util.py`), which includes a `propagate_with_J2()` method.\n",
    "The orbit is propagated over **10 days** ($864,000$ seconds) with a $10$-second timestep.\n",
    "\n",
    "The `OrbitVisualizer` class is used to generate both static and animated orbit visualizations.\n",
    "\n",
    "### Additional Capabilities:\n",
    "This notebook also demonstrates:\n",
    "- Time conversions (UTC → Julian Date, YYDDD, formatted UTC strings).\n",
    "- Exporting ephemeris files compatible with FreeFlyer/STK (`.e`) and SPICE (`.bsp`)."
   ],
   "id": "b6623a9c6ccace74"
  },
  {
   "metadata": {},
   "cell_type": "markdown",
   "source": [
    "\n",
    "### Code\n",
    "\n",
    "Here is the example code:"
   ],
   "id": "a39ba4893d0f3c27"
  },
  {
   "metadata": {},
   "cell_type": "code",
   "source": [
    "import numpy as np\n",
    "from datetime import datetime, timezone\n",
    "from orbit_util import Orbit_2body, OrbitVisualizer\n",
    "\n",
    "# -------------------------\n",
    "# Define initial conditions\n",
    "# -------------------------\n",
    "R0 = [840.5, 485.3, 6905.8]   # Initial position (km)\n",
    "V0 = [3.7821, -6.5491, 0.0057]  # Initial velocity (km/s)\n",
    "\n",
    "# -----------------------------------------\n",
    "# Instantiate the orbit propagator class\n",
    "# -----------------------------------------\n",
    "orbit = Orbit_2body()\n",
    "\n",
    "# -----------------------------------------\n",
    "# Propagate orbit with J2 perturbation\n",
    "# Duration: 10 days (864,000 s)\n",
    "# Time step: 10 seconds\n",
    "# -----------------------------------------\n",
    "T_sim_seconds = 24 * 10 * 3600\n",
    "time_step = 10\n",
    "r, t = orbit.propagate_with_J2(T=T_sim_seconds, time_step=time_step, R0=R0, V0=V0)\n",
    "\n",
    "print(f\"Propagation complete. {len(t)} steps computed.\")\n"
   ],
   "id": "422e455084848aa6",
   "outputs": [],
   "execution_count": null
  },
  {
   "metadata": {},
   "cell_type": "code",
   "outputs": [],
   "execution_count": null,
   "source": [
    "# ----------------------------\n",
    "# Visualizations\n",
    "# ----------------------------\n",
    "ob = OrbitVisualizer()\n",
    "\n",
    "# Static 3D orbit view with Earth and borders\n",
    "ob.EarthStatic(r, title=\"Orbit with J2 Perturbation (Static View)\")\n",
    "\n",
    "# Animated orbit view (downsampled)\n",
    "ob.EarthDynamic(r[::50], t[::50], title=\"Orbit with J2 Perturbation (10 days)\")\n"
   ],
   "id": "337b71255ba27ab6"
  },
  {
   "metadata": {},
   "cell_type": "code",
   "outputs": [],
   "execution_count": null,
   "source": [
    "# ----------------------------\n",
    "# Time utilities demonstration\n",
    "# ----------------------------\n",
    "current_utc_time = datetime.now(timezone.utc)\n",
    "\n",
    "print(\"\\n--- Time Conversion Outputs ---\")\n",
    "print(f\"Current UTC: {current_utc_time}\")\n",
    "print(f\"Julian Date: {orbit.UTC_to_julian(current_utc_time)}\")\n",
    "print(f\"YYDDD Format: {orbit.UTC_to_YYDDD(current_utc_time)}\")\n",
    "print(f\"Formatted UTC (6 decimals): {orbit.format_utc(current_utc_time, decimals=6)}\")\n",
    "print(f\"Formatted UTC (12 decimals): {orbit.format_utc(current_utc_time, decimals=12)}\")\n"
   ],
   "id": "eb40f1de79fb270"
  },
  {
   "metadata": {},
   "cell_type": "code",
   "outputs": [],
   "execution_count": null,
   "source": [
    "# ----------------------------\n",
    "# Export ephemeris files\n",
    "# ----------------------------\n",
    "positions = r[:, :3]\n",
    "velocities = r[:, 3:]\n",
    "\n",
    "scenario_start_epoch = datetime(year=2025, month=5, day=19, hour=8, minute=20, second=0, tzinfo=timezone.utc)\n",
    "\n",
    "print(\"\\n--- Ephemeris File Generation ---\")\n",
    "\n",
    "# FreeFlyer/STK-compatible ephemeris\n",
    "ff_output_message = orbit.save_ephermeris_freeflyer(\n",
    "    r=positions,\n",
    "    v=velocities,\n",
    "    t=t,\n",
    "    scenario_epoch=scenario_start_epoch,\n",
    "    file_name=\"j2_orbit_ff\"\n",
    ")\n",
    "print(ff_output_message)\n",
    "\n",
    "# SPICE kernel ephemeris\n",
    "spk_output_message = orbit.save_to_spk(\n",
    "    r_vectors=positions,\n",
    "    v_vectors=velocities,\n",
    "    time=t,\n",
    "    scenario_epoch=scenario_start_epoch,\n",
    "    output_file=\"j2_orbit_spk\",\n",
    "    kernel_list=[\"naif0012.tls\", \"pck00010.tpc\"],\n",
    "    kernel_base_dir=\"./kernels\"\n",
    ")\n",
    "print(spk_output_message)\n",
    "\n",
    "print(\"\\nScript finished. Ephemeris files saved: 'j2_orbit_ff.e' and 'j2_orbit_spk.bsp'.\")\n"
   ],
   "id": "81e837e1c21e6fa8"
  }
 ],
 "metadata": {
  "kernelspec": {
   "display_name": "Python 3",
   "language": "python",
   "name": "python3"
  },
  "language_info": {
   "codemirror_mode": {
    "name": "ipython",
    "version": 2
   },
   "file_extension": ".py",
   "mimetype": "text/x-python",
   "name": "python",
   "nbconvert_exporter": "python",
   "pygments_lexer": "ipython2",
   "version": "2.7.6"
  }
 },
 "nbformat": 4,
 "nbformat_minor": 5
}
