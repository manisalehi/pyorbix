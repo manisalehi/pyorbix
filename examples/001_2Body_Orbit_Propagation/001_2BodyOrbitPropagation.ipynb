{
 "cells": [
  {
   "metadata": {},
   "cell_type": "markdown",
   "source": "# Example 1: 2-Body Orbit Propagation Using Initial State Vectors",
   "id": "2c75f90a6a7f800e"
  },
  {
   "metadata": {},
   "cell_type": "markdown",
   "source": [
    "\n",
    "### Problem Statement\n",
    "\n",
    "This exercise demonstrates how to simulate the trajectory of a spacecraft in orbit around the Earth by solving the **two-body problem** numerically.\n",
    "\n",
    "The spacecraft's motion is governed solely by Earth’s gravity, assuming Earth is a point mass. The goal is to propagate the spacecraft's orbit over a **24-hour** period using its initial position and velocity vectors, given in the Earth-Centered Inertial (ECI) frame.\n",
    "\n",
    "**Initial Conditions:**\n",
    "\n",
    "- Position vector (km):  \n",
    "$$  \n",
    "\\mathbf{r}_0 = [840.5,\\ 485.3,\\ 6905.8] \n",
    "$$\n",
    "\n",
    "- Velocity vector (km/s): \n",
    "$$ \n",
    "\\mathbf{v}_0 = [3.7821,\\ -6.5491,\\ 0.0057]\n",
    "$$\n"
   ],
   "id": "45693c0224794be7"
  },
  {
   "metadata": {},
   "cell_type": "markdown",
   "source": [
    "\n",
    "### Governing Equations\n",
    "\n",
    "The motion is governed by Newton's law of gravitation under the **two-body assumption**, described by the following second-order differential equation:\n",
    "\n",
    "$$\n",
    "\\[\n",
    "\\ddot{\\mathbf{r}} = -\\mu \\frac{\\mathbf{r}}{|\\mathbf{r}|^3}\n",
    "\\]\n",
    "$$\n",
    "\n",
    "Where:\n",
    "- $\\( \\mathbf{r} \\)$  is the position vector of the spacecraft\n",
    "- $\\( \\mu = 398600.4418\\ \\text{km}^3/\\text{s}^2 \\)$  is Earth's gravitational parameter\n",
    "- $\\( \\ddot{\\mathbf{r}} \\)$  is the acceleration due to gravity\n",
    "\n",
    "This second-order equation is converted into a system of first-order differential equations to be solved numerically using `scipy.integrate.odeint`.\n"
   ],
   "id": "dc9acb5c1fef351f"
  },
  {
   "metadata": {},
   "cell_type": "markdown",
   "source": [
    "\n",
    "### Code\n",
    "\n",
    "Here is the example code:"
   ],
   "id": "532904ad6e847620"
  },
  {
   "metadata": {},
   "cell_type": "code",
   "outputs": [],
   "execution_count": null,
   "source": [
    "\n",
    "from orbit_util import Orbit_2body\n",
    "\n",
    "# Define initial conditions\n",
    "# --------------------------\n",
    "# Position in km\n",
    "X_0 = 840.5\n",
    "Y_0 = 485.3\n",
    "Z_0 = 6905.8\n",
    "\n",
    "# Velocity in km/s\n",
    "VX_0 = 3.7821\n",
    "VY_0 = -6.5491\n",
    "VZ_0 = 0.0057\n",
    "\n",
    "# State vector [x, y, z, vx, vy, vz]\n",
    "state_0 = [X_0, Y_0, Z_0, VX_0, VY_0, VZ_0]\n",
    "\n",
    "# Initialize orbit propagator and simulate for 24 hours with 10s time step\n",
    "orbit = Orbit_2body()\n",
    "r, t = orbit.propagate_init_cond(\n",
    "    T=24 * 3600,        # 24 hours in seconds\n",
    "    time_step=10,       # Integration step size (10 seconds)\n",
    "    R0=state_0[0:3],    # Initial position vector\n",
    "    V0=state_0[3:6]     # Initial velocity vector\n",
    ")\n"
   ],
   "id": "2c373567a52875b"
  },
  {
   "metadata": {},
   "cell_type": "code",
   "outputs": [],
   "execution_count": null,
   "source": [
    "\n",
    "from orbit_util import OrbitVisualizer\n",
    "\n",
    "# Initialize visualizer\n",
    "ob = OrbitVisualizer()\n",
    "\n",
    "# Static 3D view of orbit\n",
    "ob.SimpleStatic(r, title=\"3D orbit around Earth\")\n",
    "\n",
    "# Animated 3D orbit\n",
    "ob.SimpleDynamic(r[::10], t[::10], title=\"Orbital motion around Earth\")\n",
    "\n",
    "# Static map-based visualization (requires GeoJSON data or internet access)\n",
    "ob.EarthStatic(r, title=\"Orbit over Earth with country borders\")\n",
    "\n",
    "# Detailed Earth animation (also requires GeoJSON or local file path)\n",
    "ob.EarthDynamic(r[::10], t[::10], title=\"Detailed orbital motion over Earth\")\n"
   ],
   "id": "7e6de9b44c7cdd3d"
  }
 ],
 "metadata": {
  "kernelspec": {
   "display_name": "Python 3",
   "language": "python",
   "name": "python3"
  },
  "language_info": {
   "codemirror_mode": {
    "name": "ipython",
    "version": 2
   },
   "file_extension": ".py",
   "mimetype": "text/x-python",
   "name": "python",
   "nbconvert_exporter": "python",
   "pygments_lexer": "ipython2",
   "version": "2.7.6"
  }
 },
 "nbformat": 4,
 "nbformat_minor": 5
}
