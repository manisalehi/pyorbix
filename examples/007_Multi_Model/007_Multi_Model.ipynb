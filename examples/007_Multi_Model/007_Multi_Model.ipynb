{
 "cells": [
  {
   "metadata": {},
   "cell_type": "markdown",
   "source": "# Example 7: Sun-Synchronous Circular Orbit — Multi-Model Propagation\n",
   "id": "6e0ca167aea0b7fb"
  },
  {
   "metadata": {},
   "cell_type": "markdown",
   "source": [
    "## Problem Statement\n",
    "This example designs and simulates a Sun-synchronous orbit (SSO) at an altitude of 500 km.\n",
    "The goal is to determine the required inclination for Sun-synchronicity, then propagate the orbit\n",
    "using three models:\n",
    "- Two-Body (ideal Keplerian motion)\n",
    "- J2 Perturbation (Earth’s oblateness)\n",
    "- HPOP (High-Fidelity Orbit Propagator with higher-order forces)\n",
    "\n",
    "We then compare the trajectories and ground tracks to analyze the differences between the models.\n",
    "\n",
    "## Initial Conditions\n",
    "- Semi-major axis: $a = 6878.137$ km (Earth radius + 500 km altitude)\n",
    "- Eccentricity: $e = 0$ (circular)\n",
    "- Inclination: $i \\approx 97.4^\\circ$\n",
    "- RAAN = $0^\\circ$, Argument of Perigee = $0^\\circ$, True Anomaly = $0^\\circ$\n"
   ],
   "id": "677d380cca84dd01"
  },
  {
   "metadata": {},
   "cell_type": "markdown",
   "source": [
    "## Governing Equations\n",
    "Sun’s mean motion:\n",
    "$$ \\Omega_{req} = \\frac{2\\pi}{365.26 \\times 24 \\times 3600} \\quad [rad/s] $$\n",
    "\n",
    "J2-induced nodal regression:\n",
    "$$ \\dot{\\Omega}_{J2} = -\\tfrac{3}{2} J_2 \\left(\\tfrac{R_E}{a}\\right)^2 \\sqrt{\\tfrac{\\mu}{a^3}} \\cos i $$\n",
    "\n",
    "Sun-synchronicity requires:\n",
    "$$ \\cos i = -\\tfrac{2}{3 J_2} \\left(\\tfrac{a}{R_E}\\right)^2 \\Omega_{req} \\sqrt{\\tfrac{a^3}{\\mu}} $$\n",
    "\n",
    "With altitude $h = 500$ km ($a = R_E + h = 6878.137$ km), this yields $i \\approx 97.4^\\circ$.\n",
    "\n",
    "## Method\n",
    "1. Compute the required inclination for a 500 km altitude Sun-synchronous orbit.\n",
    "2. Convert Keplerian orbital elements to Cartesian state vectors.\n",
    "3. Propagate the orbit over 5 days with a 120-second time step using:\n",
    "   - Two-Body model\n",
    "   - J2 Perturbation model\n",
    "   - HPOP (High-Precision Orbit Propagator)\n",
    "4. Generate 3D visualizations and combined ground-track plots to compare the models.\n"
   ],
   "id": "b70b3c915d4c289a"
  },
  {
   "metadata": {},
   "cell_type": "markdown",
   "source": [
    "\n",
    "### Code\n",
    "\n",
    "Here is the example code:"
   ],
   "id": "6658ae862bacd5b0"
  },
  {
   "metadata": {},
   "cell_type": "code",
   "outputs": [],
   "execution_count": null,
   "source": [
    "import numpy as np\n",
    "from datetime import datetime, timezone\n",
    "from orbit_util import Orbit_2body, OrbitVisualizer\n",
    "\n",
    "# Constants (fallbacks taken if not exposed by Orbit_2body)\n",
    "orb = Orbit_2body()\n",
    "mu  = getattr(orb, 'mu', 398600.4418)   # km^3/s^2\n",
    "R_E = getattr(orb, 'R_E', 6378.137)     # km\n",
    "J2  = getattr(orb, 'J2', 1.08263e-3)    # -\n",
    "\n",
    "# Sun-synchronous design for h = 500 km\n",
    "h_alt_km = 500.0\n",
    "a = R_E + h_alt_km\n",
    "Omega_dot_req = 2*np.pi / (365.26*24*3600.0)\n",
    "cos_i = -(2.0/(3.0*J2))*((a/R_E)**2)*Omega_dot_req*np.sqrt(a**3/mu)\n",
    "cos_i = np.clip(cos_i, -1.0, 1.0)\n",
    "i_deg = float(np.degrees(np.arccos(cos_i)))\n",
    "\n",
    "print(f\"Designed SSO inclination ≈ {i_deg:.2f} deg (target ~97.4 deg)\")\n",
    "print(f\"a = {a:.3f} km, mu = {mu:.3f} km^3/s^2, J2 = {J2}\")\n"
   ],
   "id": "64411ca43656312f"
  },
  {
   "metadata": {},
   "cell_type": "code",
   "outputs": [],
   "execution_count": null,
   "source": [
    "# Build initial state from Keplerian elements\n",
    "e = 0.0\n",
    "RAAN = 0.0\n",
    "w = 0.0\n",
    "theta = 0.0\n",
    "h_spec = np.sqrt(mu * a)\n",
    "R0, V0 = orb.keplerian_to_cartesian(e=e, h=h_spec, theta=theta, i=i_deg, RAAN=RAAN, w=w, degree_mode=True)\n",
    "print(\"Initial Cartesian state constructed.\")\n"
   ],
   "id": "d9fde414cdcad51b"
  },
  {
   "metadata": {},
   "cell_type": "code",
   "outputs": [],
   "execution_count": null,
   "source": [
    "# Propagation settings\n",
    "T_days = 5           # Use 5 days here; increase if you want longer tracks\n",
    "T = T_days * 24 * 3600\n",
    "time_step = 120      # seconds\n",
    "scenario_epoch = datetime.now(timezone.utc)\n",
    "print(f\"Propagating for {T_days} days with dt = {time_step} s ...\")\n",
    "\n",
    "# Two-Body\n",
    "sol_2body, t_2body = orb.propagate_init_cond(T=T, time_step=time_step, R0=R0, V0=V0)\n",
    "\n",
    "# J2\n",
    "sol_j2, t_j2 = orb.propagate_with_J2(T=T, time_step=time_step, R0=R0, V0=V0)\n",
    "\n",
    "# HPOP (ensure required kernels/params are configured in orbit_util)\n",
    "sol_hpop, t_hpop = orb.HFOP(T=T, time_step=time_step, R0=R0, V0=V0, scenario_epoch=scenario_epoch)\n",
    "print(\"Propagation finished.\")\n"
   ],
   "id": "6e045d4b1e874c4a"
  },
  {
   "metadata": {},
   "cell_type": "code",
   "outputs": [],
   "execution_count": null,
   "source": [
    "# Extract ECI positions and compute ground tracks\n",
    "r_2body = sol_2body[:, 0:3]\n",
    "r_j2    = sol_j2[:, 0:3]\n",
    "r_hpop  = sol_hpop[:, 0:3]\n",
    "\n",
    "lat_2body, lon_2body = orb.lat_long_from_ECI(r_eci=r_2body, t=t_2body, scenario_epoch=scenario_epoch)\n",
    "lat_j2,    lon_j2    = orb.lat_long_from_ECI(r_eci=r_j2,    t=t_j2,    scenario_epoch=scenario_epoch)\n",
    "lat_hpop,  lon_hpop  = orb.lat_long_from_ECI(r_eci=r_hpop,  t=t_hpop,  scenario_epoch=scenario_epoch)\n",
    "print(\"Latitude/longitude tracks computed.\")\n"
   ],
   "id": "47ee518a05fb7cf9"
  },
  {
   "metadata": {},
   "cell_type": "code",
   "outputs": [],
   "execution_count": null,
   "source": [
    "# 3D visualizations\n",
    "viz = OrbitVisualizer()\n",
    "viz.EarthStatic(r=r_2body, title=\"Example 7 — Two‑Body Orbit (3D)\", names=[\"Two‑Body\"])\n",
    "viz.EarthStatic(r=r_j2,    title=\"Example 7 — J2 Orbit (3D)\",      names=[\"J2\"])\n",
    "viz.EarthStatic(r=r_hpop,  title=\"Example 7 — HPOP Orbit (3D)\",    names=[\"HPOP\"])\n",
    "print(\"3D plots created.\")\n"
   ],
   "id": "dd3f589bd4d249b1"
  },
  {
   "metadata": {},
   "cell_type": "code",
   "outputs": [],
   "execution_count": null,
   "source": [
    "# Combined ground‑track visualization\n",
    "latitudes  = np.vstack([np.nan_to_num(lat_2body), np.nan_to_num(lat_j2), np.nan_to_num(lat_hpop)])\n",
    "longitudes = np.vstack([np.nan_to_num(lon_2body), np.nan_to_num(lon_j2), np.nan_to_num(lon_hpop)])\n",
    "viz.ground_track(latitudes=latitudes, longitudes=longitudes, names=[\"Two‑Body\", \"J2\", \"HPOP\"])\n",
    "print(\"Ground tracks plotted.\")\n"
   ],
   "id": "433c95b5121fe3db"
  }
 ],
 "metadata": {
  "kernelspec": {
   "display_name": "Python 3",
   "language": "python",
   "name": "python3"
  },
  "language_info": {
   "codemirror_mode": {
    "name": "ipython",
    "version": 2
   },
   "file_extension": ".py",
   "mimetype": "text/x-python",
   "name": "python",
   "nbconvert_exporter": "python",
   "pygments_lexer": "ipython2",
   "version": "2.7.6"
  }
 },
 "nbformat": 4,
 "nbformat_minor": 5
}
